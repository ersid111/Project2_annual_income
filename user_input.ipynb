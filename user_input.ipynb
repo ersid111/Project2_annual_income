{
 "cells": [
  {
   "cell_type": "code",
   "execution_count": 5,
   "id": "8df4dfca-6200-47ca-8cb3-a62d1386fd73",
   "metadata": {},
   "outputs": [
    {
     "name": "stdin",
     "output_type": "stream",
     "text": [
      "age 32\n",
      "annual income 45\n",
      "spending score 43\n"
     ]
    },
    {
     "name": "stdout",
     "output_type": "stream",
     "text": [
      "[0]\n"
     ]
    },
    {
     "name": "stderr",
     "output_type": "stream",
     "text": [
      "C:\\Users\\Shridhar\\AppData\\Local\\Programs\\Python\\Python39\\lib\\site-packages\\sklearn\\base.py:450: UserWarning: X does not have valid feature names, but MinMaxScaler was fitted with feature names\n",
      "  warnings.warn(\n",
      "C:\\Users\\Shridhar\\AppData\\Local\\Programs\\Python\\Python39\\lib\\site-packages\\sklearn\\base.py:450: UserWarning: X does not have valid feature names, but KMeans was fitted with feature names\n",
      "  warnings.warn(\n"
     ]
    }
   ],
   "source": [
    "import numpy as np\n",
    "def user_input():\n",
    "    age = int(input(\"age\"))\n",
    "    annual_income = int(input(\"annual income\"))\n",
    "    speding_score = int(input(\"spending score\"))\n",
    "    \n",
    "    user_data = np.zeros(3)\n",
    "    \n",
    "    user_data[0] = age\n",
    "    user_data[1] = annual_income\n",
    "    user_data[2] = speding_score\n",
    "    \n",
    "    user_data_scale = scaler.transform([user_data])\n",
    "    \n",
    "    res = model.predict(user_data_scale)\n",
    "    print(res)\n",
    "    \n",
    "user_input()   \n",
    "    "
   ]
  },
  {
   "cell_type": "code",
   "execution_count": 1,
   "id": "3544b1db-1aea-44c7-ba75-a9aa729ea9d0",
   "metadata": {},
   "outputs": [],
   "source": [
    "import pickle"
   ]
  },
  {
   "cell_type": "code",
   "execution_count": 2,
   "id": "3b327b11-7c09-4189-9315-20070c31d8ea",
   "metadata": {},
   "outputs": [],
   "source": [
    "with open('model.pkl','rb') as model_file:\n",
    "    model = pickle.load(model_file)"
   ]
  },
  {
   "cell_type": "code",
   "execution_count": 3,
   "id": "f88f7acc-32df-4655-a69d-4061079ef08b",
   "metadata": {},
   "outputs": [],
   "source": [
    "with open('scaler.pkl','rb') as scaler_file:\n",
    "    scaler = pickle.load(scaler_file)"
   ]
  },
  {
   "cell_type": "code",
   "execution_count": null,
   "id": "1fc2370f-5658-4c95-915a-cc31fe56dd0d",
   "metadata": {},
   "outputs": [],
   "source": []
  }
 ],
 "metadata": {
  "kernelspec": {
   "display_name": "Python 3 (ipykernel)",
   "language": "python",
   "name": "python3"
  },
  "language_info": {
   "codemirror_mode": {
    "name": "ipython",
    "version": 3
   },
   "file_extension": ".py",
   "mimetype": "text/x-python",
   "name": "python",
   "nbconvert_exporter": "python",
   "pygments_lexer": "ipython3",
   "version": "3.9.12"
  }
 },
 "nbformat": 4,
 "nbformat_minor": 5
}
